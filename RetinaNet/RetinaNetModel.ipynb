{
  "cells": [
    {
      "cell_type": "code",
      "execution_count": null,
      "metadata": {
        "id": "5BipE3YwmwsM"
      },
      "outputs": [],
      "source": [
        "# Reference used to understand Retinanet and run the code: \n",
        "# https://medium.com/@van.evanfebrianto/how-to-train-custom-object-detection-models-using-retinanet-aeed72f5d701#64db\n",
        "\n",
        "# Code to ensure that colab does not disconnect\n",
        "%%javascript\n",
        "function ClickConnect(){\n",
        "console.log(\"Working\");\n",
        "document.querySelector(\"colab-toolbar-button#connect\").click()\n",
        "}setInterval(ClickConnect,60000)\n",
        "\n"
      ]
    },
    {
      "cell_type": "code",
      "execution_count": null,
      "metadata": {
        "id": "LhW_3g9N6VQ4"
      },
      "outputs": [],
      "source": [
        "from os import listdir\n",
        "from os.path import isfile, join\n",
        "from google.colab import drive\n",
        "from keras_retinanet import models\n",
        "drive.mount('/content/drive')"
      ]
    },
    {
      "cell_type": "code",
      "execution_count": null,
      "metadata": {
        "id": "kJLSWN6h_roc"
      },
      "outputs": [],
      "source": [
        "%%capture\n",
        "!python setup.py build_ext --inplace\n",
        "!pip install keras_resnet\n",
        "!pip install ."
      ]
    },
    {
      "cell_type": "code",
      "execution_count": null,
      "metadata": {
        "id": "DZWbVcMAZvn2"
      },
      "outputs": [],
      "source": [
        "%cd /content/drive/MyDrive/Retinanet/keras-retinanet-main/"
      ]
    },
    {
      "cell_type": "code",
      "execution_count": null,
      "metadata": {
        "id": "z_aJYQzjq8-a"
      },
      "outputs": [],
      "source": [
        "# Create train test files\n",
        "# Reference for creating train, test, validation files\n",
        "# https://medium.com/@van.evanfebrianto/how-to-train-custom-object-detection-models-using-retinanet-aeed72f5d701#64db\n",
        "data_dir = \"dataset/JPEGImages/\"\n",
        "files = [join(data_dir, f) for f in listdir(data_dir) if isfile(join(data_dir, f))]\n",
        "\n",
        "i = 0\n",
        "with open(\"val.txt\", \"w\") as val:\n",
        "    for f in files:\n",
        "        i += 1\n",
        "        if (i % 10) == 0:\n",
        "            if f.split(\"/\")[-1].split(\".\")[-1] == 'jpg':\n",
        "              name = \".\".join(f.split(\"/\")[-1].split(\".\")[:-1])\n",
        "            else:\n",
        "              name = f.split(\"/\")[-1]\n",
        "            if '.DS_Store' in name:\n",
        "              continue\n",
        "            val.write(name + \"\\n\")       \n",
        "\n",
        "i = 0\n",
        "with open(\"test.txt\", \"w\") as test:\n",
        "    for f in files:\n",
        "        i += 1\n",
        "        if (i % 10) == 1:\n",
        "            if f.split(\"/\")[-1].split(\".\")[-1] == 'jpg':\n",
        "              name = \".\".join(f.split(\"/\")[-1].split(\".\")[:-1])\n",
        "            else:\n",
        "              name = f.split(\"/\")[-1]\n",
        "            if '.DS_Store' in name:\n",
        "              continue\n",
        "            test.write(name + \"\\n\")\n",
        "            \n",
        "\n",
        "i = 0\n",
        "with open(\"train.txt\", \"w\") as train:\n",
        "    for f in files:\n",
        "        i += 1\n",
        "        if (i % 10) != 0:\n",
        "            if f.split(\"/\")[-1].split(\".\")[-1] == 'jpg':\n",
        "              name = \".\".join(f.split(\"/\")[-1].split(\".\")[:-1])\n",
        "            else:\n",
        "              name = f.split(\"/\")[-1]\n",
        "            if '.DS_Store' in name:\n",
        "              continue\n",
        "            train.write(name + \"\\n\")\n",
        "\n",
        "# print(i)\n",
        "val.close()\n",
        "test.close()\n",
        "train.close()"
      ]
    },
    {
      "cell_type": "code",
      "execution_count": null,
      "metadata": {
        "id": "3znltvm0_2TW"
      },
      "outputs": [],
      "source": [
        "# Train code for epochs = 10, batch size = 1, steps = 500, lr = 0.00001, backbone = ResNet50\n",
        "!python keras_retinanet/bin/train.py --freeze-backbone \\\n",
        "--lr 0.00001 \\\n",
        "--random-transform \\\n",
        "--multi-gpu 1\\\n",
        "--gpu 0\\\n",
        "--weights snapshots/resnet50_coco_best_v2.1.0.h5 \\\n",
        "--epoch 10 \\\n",
        "--batch-size 1 \\\n",
        "--steps 500 \\\n",
        "--snapshot-path snapshots \\\n",
        "--tensorboard-dir tf-logs \\\n",
        "pascal ./dataset"
      ]
    },
    {
      "cell_type": "code",
      "execution_count": null,
      "metadata": {
        "id": "p00cIF3EL9o5"
      },
      "outputs": [],
      "source": [
        "# Train code for epochs 20, batch size = 1, steps = 500, lr = 0.00001, backbone = ResNet50\n",
        "!python keras_retinanet/bin/train.py --freeze-backbone \\\n",
        "--lr 0.00001 \\\n",
        "--random-transform \\\n",
        "--multi-gpu 1\\\n",
        "--gpu 0\\\n",
        "--weights snapshots/resnet50_coco_best_v2.1.0.h5 \\\n",
        "--epoch 20 \\\n",
        "--batch-size 1 \\\n",
        "--steps 500 \\\n",
        "--snapshot-path snapshots \\\n",
        "--tensorboard-dir tf-logs \\\n",
        "pascal ./dataset"
      ]
    },
    {
      "cell_type": "code",
      "execution_count": null,
      "metadata": {
        "id": "OnRrOtzUn8Sj"
      },
      "outputs": [],
      "source": [
        "# Convert training model to inference model\n",
        "!python keras_retinanet/bin/convert_model.py snapshots/resnet50_pascal_10.h5 weights/resnet50_pascal_10.h5"
      ]
    },
    {
      "cell_type": "code",
      "execution_count": null,
      "metadata": {
        "id": "F1TG5N0BgKCd"
      },
      "outputs": [],
      "source": [
        "# Convert training model to inference model\n",
        "!python keras_retinanet/bin/convert_model.py snapshots/resnet50_pascal_20.h5 weights/resnet50_pascal_20.h5"
      ]
    },
    {
      "cell_type": "code",
      "execution_count": null,
      "metadata": {
        "id": "gMdcT0nZ3O99"
      },
      "outputs": [],
      "source": [
        "# Evaluating the performance of model with 10 epochs on test dataset \n",
        "!python keras_retinanet/bin/evaluate.py pascal dataset \\\n",
        "weights/resnet50_pascal_10.h5"
      ]
    },
    {
      "cell_type": "code",
      "execution_count": null,
      "metadata": {},
      "outputs": [],
      "source": [
        "# Evaluating the performance of model with 20 epochs on test dataset \n",
        "!python keras_retinanet/bin/evaluate.py pascal dataset \\\n",
        "weights/resnet50_pascal_20.h5"
      ]
    }
  ],
  "metadata": {
    "accelerator": "GPU",
    "colab": {
      "provenance": []
    },
    "gpuClass": "standard",
    "kernelspec": {
      "display_name": "Python 3",
      "name": "python3"
    },
    "language_info": {
      "name": "python"
    }
  },
  "nbformat": 4,
  "nbformat_minor": 0
}
